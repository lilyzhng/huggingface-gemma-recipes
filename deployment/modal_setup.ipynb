{
 "cells": [
  {
   "cell_type": "code",
   "execution_count": 10,
   "metadata": {},
   "outputs": [],
   "source": [
    "import io\n",
    "\n",
    "import modal"
   ]
  },
  {
   "cell_type": "markdown",
   "metadata": {},
   "source": [
    "Define a container image"
   ]
  },
  {
   "cell_type": "code",
   "execution_count": 11,
   "metadata": {},
   "outputs": [],
   "source": [
    "# image = modal.Image.debian_slim().pip_install_from_requirements(\"requirements.txt\")\n",
    "\n",
    "image = modal.Image.debian_slim(python_version=\"3.12\").pip_install(\"chatterbox-tts==0.1.1\", \"fastapi[standard]\")\n",
    "\n",
    "app = modal.App(name=\"chatterbox-api-example\", image=image)\n"
   ]
  },
  {
   "cell_type": "code",
   "execution_count": 12,
   "metadata": {},
   "outputs": [],
   "source": [
    "with image.imports():\n",
    "    import torchaudio as ta\n",
    "    from chatterbox_tts import ChatterboxTTS\n",
    "    from fastapi.response import StreamingResponse\n"
   ]
  },
  {
   "cell_type": "code",
   "execution_count": 13,
   "metadata": {},
   "outputs": [],
   "source": [
    "# acceleration with A10G\n",
    "\n",
    "@app.cls(gpu=\"a10g\", scaledown_window = 60*5, enable_memory_snapshot=True)\n",
    "\n",
    "class Chatterbox:\n",
    "    @modal.enter()\n",
    "    def load(self):\n",
    "        self.model = ChatterboxTTS.from_pretrained(device=\"cuda\")\n",
    "\n",
    "    @modal.fastapi_endpoint(docs=True, method=\"POST\")\n",
    "    def generate(self, prompt: str):\n",
    "        # 1. Generate audio waveform from the input text\n",
    "        wav = self.model.generate(prompt)\n",
    "\n",
    "        # 2. Create an in-memory buffer to store the WAV file\n",
    "        buffer = io.BytesIO()\n",
    "\n",
    "        # 3. Save the generated audio to the buffer in WAV file\n",
    "        # Uses the model's sample rate and WAV format\n",
    "        ta.save(buffer, wav, self.model.sr, format=\"wav\")\n",
    "\n",
    "\n",
    "        # 4. Reset the buffer position to the beginining for reading\n",
    "        buffer.seek(0)\n",
    "\n",
    "        # 5. Return the audio as a streaming response with appropriate MIME type\n",
    "        # This allows for brower to playback audio directly\n",
    "        return StreamingResponse(\n",
    "            io.BytesIO(buffer.read()),\n",
    "            media_type=\"audio/wav\",\n",
    "        )\n",
    "\n"
   ]
  },
  {
   "cell_type": "markdown",
   "metadata": {},
   "source": [
    "Deploy the Chatterbox API"
   ]
  },
  {
   "cell_type": "markdown",
   "metadata": {},
   "source": []
  }
 ],
 "metadata": {
  "kernelspec": {
   "display_name": "base",
   "language": "python",
   "name": "python3"
  },
  "language_info": {
   "codemirror_mode": {
    "name": "ipython",
    "version": 3
   },
   "file_extension": ".py",
   "mimetype": "text/x-python",
   "name": "python",
   "nbconvert_exporter": "python",
   "pygments_lexer": "ipython3",
   "version": "3.12.2"
  }
 },
 "nbformat": 4,
 "nbformat_minor": 2
}
